{
 "cells": [
  {
   "cell_type": "code",
   "execution_count": 13,
   "id": "76339803",
   "metadata": {},
   "outputs": [
    {
     "name": "stdout",
     "output_type": "stream",
     "text": [
      "Сводный файл сохранен как summary_report.csv\n"
     ]
    }
   ],
   "source": [
    "import os\n",
    "import pandas as pd\n",
    "\n",
    "# Пути к файлам\n",
    "input_folder = r\"C:\\Users\\rusla\\OneDrive\\Рабочий стол\\Диплом\\Гены\\chembl_uniprot_ttd\\chembl\\Результаты расчёта\"\n",
    "output_file = \"summary_report.csv\"\n",
    "\n",
    "# Собираем файлы для анализа\n",
    "files = [f for f in os.listdir(input_folder) if os.path.isfile(os.path.join(input_folder, f))]\n",
    "\n",
    "# Создаем список для хранения данных\n",
    "results = []\n",
    "\n",
    "# Обрабатываем каждый файл\n",
    "for file in files:\n",
    "    file_path = os.path.join(input_folder, file)\n",
    "    df = pd.read_csv(file_path, encoding='utf-8')\n",
    "    \n",
    "    # Собираем метрики\n",
    "    metrics = {\n",
    "        'File Name': file,\n",
    "        'Total Rows': len(df),\n",
    "        'Yes in Drug Mechanism': len(df[df[\"Drug Mechanism ChEMBL\"] == \"Yes\"]),\n",
    "        'Approved': len(df[df[\"Max phase ChEMBL\"] == \"Approved\"]),\n",
    "        'Phase 1': len(df[df[\"Max phase ChEMBL\"] == \"Phase 1\"]),\n",
    "        'Phase 2': len(df[df[\"Max phase ChEMBL\"] == \"Phase 2\"]),\n",
    "        'Phase 3': len(df[df[\"Max phase ChEMBL\"] == \"Phase 3\"]),\n",
    "        'Unique Genes': len(df[\"Gene\"].unique()),\n",
    "        'Genes with Yes in Mechanism': len(df[df[\"Drug Mechanism ChEMBL\"] == \"Yes\"][\"Gene\"].unique()),\n",
    "        'Genes': list(df[df[\"Drug Mechanism ChEMBL\"] == \"Yes\"][\"Gene\"].unique())\n",
    "    }\n",
    "    results.append(metrics)\n",
    "\n",
    "# Создаем основной DataFrame\n",
    "summary_df = pd.DataFrame(results)\n",
    "\n",
    "# Транспонируем таблицу\n",
    "transposed = summary_df.set_index('File Name').T\n",
    "transposed.index.name = 'Metrics'\n",
    "\n",
    "# Подготовка данных для сохранения\n",
    "output_lines = []\n",
    "headers = ['Metrics'] + list(transposed.columns)\n",
    "output_lines.append(','.join(headers))\n",
    "\n",
    "# Добавляем основные метрики (все кроме списка генов)\n",
    "for metric in transposed.index[:-1]:\n",
    "    row = [metric] + list(transposed.loc[metric].astype(str))\n",
    "    output_lines.append(','.join(row))\n",
    "\n",
    "# Обрабатываем список генов\n",
    "max_genes = max(len(x) for x in summary_df['Genes'])\n",
    "\n",
    "# Добавляем строку \"Genes list\" с первыми генами\n",
    "genes_row = ['Genes list']\n",
    "for genes in summary_df['Genes']:\n",
    "    genes_row.append(genes[0] if len(genes) > 0 else '')\n",
    "output_lines.append(','.join(genes_row))\n",
    "\n",
    "# Добавляем остальные гены\n",
    "for i in range(1, max_genes):\n",
    "    row = ['']\n",
    "    for genes in summary_df['Genes']:\n",
    "        row.append(genes[i] if i < len(genes) else '')\n",
    "    output_lines.append(','.join(row))\n",
    "\n",
    "# Сохраняем в CSV файл\n",
    "with open(output_file, 'w', encoding='utf-8') as f:\n",
    "    f.write('\\n'.join(output_lines))\n",
    "\n",
    "print(f\"Сводный файл сохранен как {output_file}\")"
   ]
  }
 ],
 "metadata": {
  "kernelspec": {
   "display_name": "Python 3",
   "language": "python",
   "name": "python3"
  },
  "language_info": {
   "codemirror_mode": {
    "name": "ipython",
    "version": 3
   },
   "file_extension": ".py",
   "mimetype": "text/x-python",
   "name": "python",
   "nbconvert_exporter": "python",
   "pygments_lexer": "ipython3",
   "version": "3.12.4"
  }
 },
 "nbformat": 4,
 "nbformat_minor": 5
}
