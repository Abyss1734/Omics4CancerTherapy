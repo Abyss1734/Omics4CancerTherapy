{
 "cells": [
  {
   "cell_type": "code",
   "execution_count": 1,
   "metadata": {},
   "outputs": [
    {
     "name": "stdout",
     "output_type": "stream",
     "text": [
      "✅ Корреляционная матрица сохранена: ./correlation_depscore_vs_expression_data.csv\n",
      "✅ P-value матрица сохранена: ./p_value_depscore_vs_expression_data.csv\n"
     ]
    }
   ],
   "source": [
    "import pandas as pd\n",
    "import numpy as np\n",
    "from scipy.stats import pearsonr\n",
    "\n",
    "# Пути к файлам\n",
    "scores_file = r\"../../../depmap_datasets/prepared_datasets/depscores.csv\"\n",
    "expression_file = r\"../../../depmap_datasets/prepared_datasets/protein_coding_gene_expression.csv\"\n",
    "correlation_output_file = r\"./correlation_depscore_vs_expression_data.csv\"\n",
    "pvalue_output_file = r\"./p_value_depscore_vs_expression_data.csv\"\n",
    "\n",
    "# Список генов для анализа\n",
    "genes_of_interest = [\n",
    "    \"ABL1\", \"ABL2\", \"AXL\", \"BMX\", \"BTK\", \"CAMK1D\", \"CAMK2G\", \"CAV1\", \"CSK\", \n",
    "    \"EGFR\", \"EPHB4\", \"FER\", \"FES\", \"FGR\", \"FRK\", \"FYN\", \"HCK\", \"LCK\", \"LYN\", \"MAP4K2\", \n",
    "    \"MAP4K5\", \"MINK1\", \"PTK2\", \"PTK2B\", \"SIK1\", \"SIK2\", \"SIK3\", \"SRC\", \"STK10\", \n",
    "    \"STK24\", \"STK4\", \"SYK\", \"TBK1\", \"TEC\", \"TNK2\", \"YES1\"\n",
    "]\n",
    "\n",
    "# Загрузка данных\n",
    "scores_data = pd.read_csv(scores_file)\n",
    "expression_data = pd.read_csv(expression_file)\n",
    "scores_data = scores_data.rename(columns={\"DepMap_ID\": \"ModelID\"})\n",
    "\n",
    "# Отбор только интересующих генов\n",
    "scores_data_filtered = scores_data[[\"ModelID\"] + [gene for gene in genes_of_interest if gene in scores_data.columns]]\n",
    "expression_data_filtered = expression_data[[\"ModelID\"] + [gene for gene in genes_of_interest if gene in expression_data.columns]]\n",
    "\n",
    "# Объединение по ModelID\n",
    "merged_data = pd.merge(scores_data_filtered, expression_data_filtered, on=\"ModelID\", suffixes=('_depscore', '_expression'))\n",
    "\n",
    "# Разделение данных на оценки зависимости и экспрессию\n",
    "scores_only = merged_data.filter(like='_depscore').copy()\n",
    "expression_only = merged_data.filter(like='_expression').copy()\n",
    "\n",
    "# Подготовка таблиц для корреляций и p-value\n",
    "correlation_matrix = pd.DataFrame(index=scores_only.columns, columns=expression_only.columns, dtype=float)\n",
    "pvalue_matrix = pd.DataFrame(index=scores_only.columns, columns=expression_only.columns, dtype=float)\n",
    "\n",
    "# Расчёт корреляций и p-value\n",
    "for score_gene in scores_only.columns:\n",
    "    for expr_gene in expression_only.columns:\n",
    "        x = scores_only[score_gene]\n",
    "        y = expression_only[expr_gene]\n",
    "        mask = x.notna() & y.notna()\n",
    "        if mask.sum() >= 10:\n",
    "            corr, pval = pearsonr(x[mask], y[mask])\n",
    "            correlation_matrix.loc[score_gene, expr_gene] = corr\n",
    "            pvalue_matrix.loc[score_gene, expr_gene] = pval\n",
    "        else:\n",
    "            correlation_matrix.loc[score_gene, expr_gene] = np.nan\n",
    "            pvalue_matrix.loc[score_gene, expr_gene] = np.nan\n",
    "\n",
    "# Сохранение результатов\n",
    "correlation_matrix.to_csv(correlation_output_file)\n",
    "pvalue_matrix.to_csv(pvalue_output_file)\n",
    "\n",
    "print(f\"✅ Корреляционная матрица сохранена: {correlation_output_file}\")\n",
    "print(f\"✅ P-value матрица сохранена: {pvalue_output_file}\")\n"
   ]
  }
 ],
 "metadata": {
  "kernelspec": {
   "display_name": "Python 3",
   "language": "python",
   "name": "python3"
  },
  "language_info": {
   "codemirror_mode": {
    "name": "ipython",
    "version": 3
   },
   "file_extension": ".py",
   "mimetype": "text/x-python",
   "name": "python",
   "nbconvert_exporter": "python",
   "pygments_lexer": "ipython3",
   "version": "3.12.4"
  }
 },
 "nbformat": 4,
 "nbformat_minor": 2
}
