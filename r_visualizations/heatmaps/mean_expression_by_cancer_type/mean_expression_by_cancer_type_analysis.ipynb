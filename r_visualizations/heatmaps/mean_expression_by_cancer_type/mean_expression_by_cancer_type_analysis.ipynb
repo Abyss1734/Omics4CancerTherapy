{
 "cells": [
  {
   "cell_type": "code",
   "execution_count": 3,
   "id": "7fe2addd",
   "metadata": {},
   "outputs": [
    {
     "name": "stdout",
     "output_type": "stream",
     "text": [
      "Готово! Файл сохранён как: ./mean_expression_by_cancer_type_data.csv\n"
     ]
    }
   ],
   "source": [
    "import pandas as pd\n",
    "\n",
    "# Пути к файлам\n",
    "expression_path = r\"../../../depmap_datasets/prepared_datasets/protein_coding_gene_expression.csv\"\n",
    "cancer_types_path = r\"C:../../../depmap_datasets/prepared_datasets/cancer_cell_lines_merged_data.csv\"\n",
    "output_path = r\"./mean_expression_by_cancer_type_data.csv\"\n",
    "\n",
    "# Список нужных генов\n",
    "genes_of_interest = [\n",
    "    \"ABL1\", \"ABL2\", \"AXL\", \"BMX\", \"BTK\", \"CAMK1D\", \"CAMK2G\", \"CAV1\", \"CSK\", \"EGFR\",\n",
    "    \"EPHB4\", \"FER\", \"FES\", \"FGR\", \"FRK\", \"FYN\", \"HCK\", \"LCK\", \"LYN\", \"MAP4K2\", \"MAP4K5\",\n",
    "    \"MINK1\", \"PTK2\", \"PTK2B\", \"SIK1\", \"SIK2\", \"SIK3\", \"SRC\", \"STK10\", \"STK24\", \"STK4\", \"SYK\",\n",
    "    \"TBK1\", \"TEC\", \"TNK2\", \"YES1\"\n",
    "]\n",
    "\n",
    "# Загрузка данных\n",
    "expression = pd.read_csv(expression_path)\n",
    "cancer_types = pd.read_csv(cancer_types_path)\n",
    "\n",
    "# Оставим только нужные гены + DepMap_ID\n",
    "columns_to_keep = ['ModelID'] + [gene for gene in genes_of_interest if gene in expression.columns]\n",
    "expression_filtered = expression[columns_to_keep]\n",
    "\n",
    "# Объединение таблиц по идентификатору модели\n",
    "merged = expression_filtered.merge(cancer_types, left_on='ModelID', right_on='ModelID')\n",
    "\n",
    "# Фильтрация типов рака с 8 и более линиями\n",
    "cancer_counts = merged['primary_disease_renamed'].value_counts()\n",
    "valid_cancer_types = cancer_counts[cancer_counts >= 8].index\n",
    "\n",
    "# Фильтрация по валидным типам рака\n",
    "filtered = merged[merged['primary_disease_renamed'].isin(valid_cancer_types)]\n",
    "\n",
    "# Группировка и расчёт средних значений\n",
    "grouped = filtered.groupby('primary_disease_renamed')[genes_of_interest].mean()\n",
    "\n",
    "# Сохранение результата\n",
    "grouped.to_csv(output_path)\n",
    "\n",
    "print(\"Готово! Файл сохранён как:\", output_path)\n"
   ]
  }
 ],
 "metadata": {
  "kernelspec": {
   "display_name": "Python 3",
   "language": "python",
   "name": "python3"
  },
  "language_info": {
   "codemirror_mode": {
    "name": "ipython",
    "version": 3
   },
   "file_extension": ".py",
   "mimetype": "text/x-python",
   "name": "python",
   "nbconvert_exporter": "python",
   "pygments_lexer": "ipython3",
   "version": "3.12.4"
  }
 },
 "nbformat": 4,
 "nbformat_minor": 5
}
