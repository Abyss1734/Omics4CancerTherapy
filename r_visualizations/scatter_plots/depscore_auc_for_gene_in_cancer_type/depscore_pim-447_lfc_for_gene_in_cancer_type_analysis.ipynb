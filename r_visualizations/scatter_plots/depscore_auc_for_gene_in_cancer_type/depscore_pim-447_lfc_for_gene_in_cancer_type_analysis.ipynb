{
 "cells": [
  {
   "cell_type": "code",
   "execution_count": 1,
   "id": "22942546",
   "metadata": {},
   "outputs": [
    {
     "name": "stdout",
     "output_type": "stream",
     "text": [
      "\n",
      "Проверка дубликатов:\n",
      "Дубликатов не найдено.\n",
      "\n",
      "Данные сохранены в файл: cervical_cancer_sik3_pim-447_data.csv\n",
      "Найдено 13 клеточных линий для Cervical Cancer и гена SIK3\n"
     ]
    }
   ],
   "source": [
    "import pandas as pd\n",
    "\n",
    "# Входные параметры\n",
    "TARGET_GENE = \"SIK3\"\n",
    "TARGET_CANCER_TYPE = \"Cervical Cancer\"\n",
    "\n",
    "# Загрузка данных\n",
    "# 1. Информация о типах рака (включая StrippedCellLineName)\n",
    "cancer_types = pd.read_csv(r\"../../../depmap_datasets/prepared_datasets/cancer_cell_lines_merged_data.csv\")\n",
    "# 2. LFC PIM-447\n",
    "lfc_data = pd.read_csv(r\"../../../depmap_datasets/prepared_datasets/lfc_pim-447_prism.csv\")\n",
    "# 3. Депскоры генов\n",
    "depscores = pd.read_csv(r\"../../../depmap_datasets/prepared_datasets/depscores.csv\")\n",
    "\n",
    "# Фильтрация по типу рака + выбор нужных столбцов (включая StrippedCellLineName)\n",
    "filtered_lines = cancer_types[cancer_types[\"primary_disease_renamed\"] == TARGET_CANCER_TYPE][\n",
    "    [\"ModelID\", \"primary_disease_renamed\", \"StrippedCellLineName\"]\n",
    "]\n",
    "\n",
    "# Выбираем только нужный ген из depscores\n",
    "depscores_filtered = depscores[[\"DepMap_ID\", TARGET_GENE]].rename(columns={\"DepMap_ID\": \"ModelID\"})\n",
    "\n",
    "# Объединяем данные\n",
    "merged_data = (\n",
    "    filtered_lines\n",
    "    .merge(depscores_filtered, on=\"ModelID\", how=\"inner\")\n",
    "    .merge(lfc_data[[\"ModelID\", \"LFC\"]], on=\"ModelID\", how=\"inner\")\n",
    ")\n",
    "\n",
    "# Заполняем пропуски в StrippedCellLineName значением ModelID\n",
    "merged_data[\"StrippedCellLineName\"] = merged_data[\"StrippedCellLineName\"].fillna(merged_data[\"ModelID\"])\n",
    "\n",
    "# Переименовываем столбцы для читаемости\n",
    "merged_data.columns = [\"ModelID\", \"Cancer_Type\", \"CellLine_Name\", TARGET_GENE, \"PIM-447_LFC\"]\n",
    "\n",
    "# Обработка дубликатов (оставляем строку с минимальным LFC)\n",
    "print(\"\\nПроверка дубликатов:\")\n",
    "duplicates = merged_data[merged_data.duplicated(subset=[\"ModelID\"], keep=False)]\n",
    "if not duplicates.empty:\n",
    "    print(\"Найдены дубликаты (несколько экспериментов для одной линии):\")\n",
    "    print(duplicates.sort_values(by=\"ModelID\"))\n",
    "    \n",
    "    # Оставляем только строку с минимальным LFC\n",
    "    merged_data = merged_data.loc[merged_data.groupby(\"ModelID\")[\"PIM-447_LFC\"].idxmin()]\n",
    "    print(\"\\nОставлены строки с минимальным LFC:\")\n",
    "    print(merged_data[merged_data[\"ModelID\"].isin(duplicates[\"ModelID\"])])\n",
    "else:\n",
    "    print(\"Дубликатов не найдено.\")\n",
    "\n",
    "# Упорядочиваем колонки (CellLine_Name будет второй колонкой)\n",
    "merged_data = merged_data[[\"ModelID\", TARGET_GENE, \"PIM-447_LFC\", \"CellLine_Name\", \"Cancer_Type\"]]\n",
    "\n",
    "# Сохраняем в CSV\n",
    "output_filename = f\"{TARGET_CANCER_TYPE.replace(' ', '_').replace('/', '_').lower()}_{TARGET_GENE.lower()}_pim-447_data.csv\"\n",
    "merged_data.to_csv(output_filename, index=False)\n",
    "\n",
    "print(f\"\\nДанные сохранены в файл: {output_filename}\")\n",
    "print(f\"Найдено {len(merged_data)} клеточных линий для {TARGET_CANCER_TYPE} и гена {TARGET_GENE}\")"
   ]
  }
 ],
 "metadata": {
  "kernelspec": {
   "display_name": "Python 3",
   "language": "python",
   "name": "python3"
  },
  "language_info": {
   "codemirror_mode": {
    "name": "ipython",
    "version": 3
   },
   "file_extension": ".py",
   "mimetype": "text/x-python",
   "name": "python",
   "nbconvert_exporter": "python",
   "pygments_lexer": "ipython3",
   "version": "3.12.4"
  }
 },
 "nbformat": 4,
 "nbformat_minor": 5
}
