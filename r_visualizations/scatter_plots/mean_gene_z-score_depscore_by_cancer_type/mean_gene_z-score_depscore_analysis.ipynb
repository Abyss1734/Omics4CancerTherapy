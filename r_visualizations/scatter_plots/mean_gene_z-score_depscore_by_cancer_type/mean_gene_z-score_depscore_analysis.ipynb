{
 "cells": [
  {
   "cell_type": "code",
   "execution_count": 2,
   "id": "77f97733",
   "metadata": {},
   "outputs": [
    {
     "name": "stdout",
     "output_type": "stream",
     "text": [
      "Файл сохранён: ./mean_gene_z-score_depscore_data\\mean_gene_z-score_depscore_aml.csv\n",
      "Файл сохранён: ./mean_gene_z-score_depscore_data\\mean_gene_z-score_depscore_all.csv\n",
      "Файл сохранён: ./mean_gene_z-score_depscore_data\\mean_gene_z-score_depscore_neuroblastoma.csv\n",
      "Все файлы успешно созданы!\n"
     ]
    }
   ],
   "source": [
    "import pandas as pd\n",
    "from scipy.stats import zscore\n",
    "import os\n",
    "\n",
    "# Пути к файлам\n",
    "combined_scores_path = r\"../../../depmap_datasets/prepared_datasets/depscores.csv\"\n",
    "merged_data_path = r\"../../../depmap_datasets/prepared_datasets/cancer_cell_lines_merged_data.csv\"\n",
    "\n",
    "# Папка для сохранения результатов\n",
    "output_folder = r\"./mean_gene_z-score_depscore_data\"\n",
    "os.makedirs(output_folder, exist_ok=True)\n",
    "\n",
    "# Чтение данных\n",
    "df_combined = pd.read_csv(combined_scores_path)\n",
    "df_merged = pd.read_csv(merged_data_path)\n",
    "\n",
    "# Выбранные типы рака\n",
    "selected_types = [\"AML\", \"ALL\", \"Neuroblastoma\"]\n",
    "\n",
    "# Фильтрация валидных клеточных линий\n",
    "valid_diseases = df_merged['primary_disease_renamed'].value_counts().index.tolist()\n",
    "df_valid_lines = df_combined[df_combined['DepMap_ID'].isin(\n",
    "    df_merged[df_merged['primary_disease_renamed'].isin(valid_diseases)]['ModelID']\n",
    ")]\n",
    "\n",
    "# Добавление информации о типе рака\n",
    "df_valid_lines = pd.merge(\n",
    "    df_valid_lines,\n",
    "    df_merged[['ModelID', 'primary_disease_renamed']],\n",
    "    left_on='DepMap_ID',\n",
    "    right_on='ModelID',\n",
    "    how='left'\n",
    ")\n",
    "\n",
    "# Определение числовых столбцов (гены)\n",
    "gene_columns = df_valid_lines.columns[1:-2]  # Все числовые столбцы кроме ID и disease\n",
    "\n",
    "# Вычисление ГЛОБАЛЬНОГО Z-score для всех генов\n",
    "df_zscore = df_valid_lines.copy()\n",
    "df_zscore[gene_columns] = df_valid_lines[gene_columns].apply(zscore, nan_policy='omit')\n",
    "\n",
    "# Фильтрация по выбранным типам рака\n",
    "df_filtered = df_valid_lines[df_valid_lines[\"primary_disease_renamed\"].isin(selected_types)]\n",
    "df_zscore_filtered = df_zscore[df_zscore[\"primary_disease_renamed\"].isin(selected_types)]\n",
    "\n",
    "# Для каждого типа рака создаем файл с тремя столбцами\n",
    "for cancer_type in selected_types:\n",
    "    # Фильтруем данные по типу рака\n",
    "    df_cancer = df_filtered[df_filtered[\"primary_disease_renamed\"] == cancer_type]\n",
    "    df_zscore_cancer = df_zscore_filtered[df_zscore_filtered[\"primary_disease_renamed\"] == cancer_type]\n",
    "    \n",
    "    # Вычисляем средние значения\n",
    "    mean_depscore = df_cancer[gene_columns].mean()\n",
    "    mean_zscore = df_zscore_cancer[gene_columns].mean()\n",
    "    \n",
    "    # Создаем итоговый DataFrame\n",
    "    result_df = pd.DataFrame({\n",
    "        'Gene': gene_columns,\n",
    "        'Mean_DepScore': mean_depscore.values,\n",
    "        'Mean_Zscore': mean_zscore.values\n",
    "    })\n",
    "    \n",
    "    # Сортируем по Z-score (от наиболее отрицательных)\n",
    "    result_df = result_df.sort_values('Mean_Zscore')\n",
    "    \n",
    "    # Сохраняем в файл\n",
    "    safe_name = cancer_type.replace(\"/\", \"_\").lower()\n",
    "    output_path = os.path.join(output_folder, f\"mean_gene_z-score_depscore_{safe_name}.csv\")\n",
    "    result_df.to_csv(output_path, index=False)\n",
    "    print(f\"Файл сохранён: {output_path}\")\n",
    "\n",
    "print(\"Все файлы успешно созданы!\")"
   ]
  }
 ],
 "metadata": {
  "kernelspec": {
   "display_name": "Python 3",
   "language": "python",
   "name": "python3"
  },
  "language_info": {
   "codemirror_mode": {
    "name": "ipython",
    "version": 3
   },
   "file_extension": ".py",
   "mimetype": "text/x-python",
   "name": "python",
   "nbconvert_exporter": "python",
   "pygments_lexer": "ipython3",
   "version": "3.12.4"
  }
 },
 "nbformat": 4,
 "nbformat_minor": 5
}
