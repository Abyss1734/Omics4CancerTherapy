{
 "cells": [
  {
   "cell_type": "code",
   "execution_count": 1,
   "metadata": {},
   "outputs": [
    {
     "name": "stdout",
     "output_type": "stream",
     "text": [
      "      ModelID primary_disease_renamed  area_under_curve\n",
      "0  ACH-000464                  Glioma            11.407\n",
      "1  ACH-000028           Breast Cancer            12.106\n",
      "2  ACH-000351          Gastric Cancer            11.458\n",
      "3  ACH-000026          Bladder Cancer            10.452\n",
      "4  ACH-000802          Bladder Cancer            11.410\n"
     ]
    }
   ],
   "source": [
    "import pandas as pd\n",
    "\n",
    "# Пути к исходным файлам\n",
    "file_filtered_data = r\"../../../depmap_datasets/prepared_datasets/auc_bosutinib_ctd2.csv\"\n",
    "file_merged_data = r\"../../../depmap_datasets/prepared_datasets/cancer_cell_lines_merged_data.csv\"\n",
    "\n",
    "# Загрузка и переименование первого файла\n",
    "filtered_data = pd.read_csv(file_filtered_data)\n",
    "filtered_data = filtered_data.rename(columns={'AUC': 'area_under_curve'})\n",
    "\n",
    "# Загрузка и отбор нужных столбцов из второго файла\n",
    "merged_data = pd.read_csv(file_merged_data)[['ModelID', 'primary_disease_renamed']]\n",
    "\n",
    "# Объединение данных\n",
    "final_data = pd.merge(filtered_data, merged_data, on='ModelID', how='inner')\n",
    "\n",
    "# Фильтрация строк, где значение в 'primary_disease_renamed' менее 5 раз\n",
    "value_counts = final_data['primary_disease_renamed'].value_counts()\n",
    "disease_to_keep = value_counts[value_counts > 5].index\n",
    "final_data_filtered = final_data[final_data['primary_disease_renamed'].isin(disease_to_keep)]\n",
    "\n",
    "# Переупорядочивание столбцов\n",
    "final_data_filtered = final_data_filtered[['ModelID', 'primary_disease_renamed', 'area_under_curve']]\n",
    "\n",
    "# Сохранение итогового файла\n",
    "output_file = r\"./bosutinib_boxplot_data.csv\"\n",
    "final_data_filtered.to_csv(output_file, index=False)\n",
    "\n",
    "# Проверка результата\n",
    "print(final_data_filtered.head())\n"
   ]
  }
 ],
 "metadata": {
  "kernelspec": {
   "display_name": "Python 3",
   "language": "python",
   "name": "python3"
  },
  "language_info": {
   "codemirror_mode": {
    "name": "ipython",
    "version": 3
   },
   "file_extension": ".py",
   "mimetype": "text/x-python",
   "name": "python",
   "nbconvert_exporter": "python",
   "pygments_lexer": "ipython3",
   "version": "3.12.4"
  }
 },
 "nbformat": 4,
 "nbformat_minor": 2
}
