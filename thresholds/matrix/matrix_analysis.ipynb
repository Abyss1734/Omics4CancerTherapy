{
 "cells": [
  {
   "cell_type": "code",
   "execution_count": 1,
   "metadata": {},
   "outputs": [
    {
     "name": "stderr",
     "output_type": "stream",
     "text": [
      "C:\\Users\\rusla\\AppData\\Local\\Temp\\ipykernel_11788\\2108122150.py:9: DtypeWarning: Columns (1) have mixed types. Specify dtype option on import or set low_memory=False.\n",
      "  depscore_df = pd.read_csv(depscore_path, index_col=0)\n"
     ]
    },
    {
     "name": "stdout",
     "output_type": "stream",
     "text": [
      "Матрица успешно создана и сохранена: ./matrix_by_cancer_type/matrix_neuroblastoma.csv\n"
     ]
    }
   ],
   "source": [
    "import pandas as pd\n",
    "\n",
    "# Пути к файлам\n",
    "depscore_path = r\"../mean_depscores/mean_depscores_by_cancer_type/mean_depscore_neuroblastoma.csv\"\n",
    "zscore_path = r\"../z-scores/mean_z-scores_by_cancer_type/mean_z-score_neuroblastoma.csv\"\n",
    "output_path = r\"./matrix_by_cancer_type/matrix_neuroblastoma.csv\"\n",
    "\n",
    "# Загружаем данные\n",
    "depscore_df = pd.read_csv(depscore_path, index_col=0)\n",
    "zscore_df = pd.read_csv(zscore_path, index_col=0)\n",
    "\n",
    "# Убираем первую строку (проценты)\n",
    "depscore_df = depscore_df.iloc[1:]\n",
    "zscore_df = zscore_df.iloc[1:]\n",
    "\n",
    "# Преобразуем индексы в строки (убедимся, что они корректные)\n",
    "depscore_df.index = depscore_df.index.astype(str)\n",
    "zscore_df.index = zscore_df.index.astype(str)\n",
    "\n",
    "# Получаем список отсечек для депскоров и z-score\n",
    "depscore_thresholds = [col for col in depscore_df.columns if col != 'Average_Score']\n",
    "zscore_thresholds = zscore_df.columns.tolist()\n",
    "\n",
    "# Создаём пустую матрицу для подсчета общих генов\n",
    "matrix = pd.DataFrame(index=zscore_thresholds, columns=depscore_thresholds)\n",
    "\n",
    "# Заполняем матрицу\n",
    "for zscore_threshold in zscore_thresholds:\n",
    "    for depscore_threshold in depscore_thresholds:\n",
    "        # Находим гены, которые соответствуют текущим отсечкам\n",
    "        zscore_genes = zscore_df.index[zscore_df[zscore_threshold] == 'Да'].tolist()\n",
    "        depscore_genes = depscore_df.index[depscore_df[depscore_threshold] == 'Да'].tolist()\n",
    "        \n",
    "        # Находим пересечение этих двух списков\n",
    "        common_genes = set(zscore_genes) & set(depscore_genes)\n",
    "        \n",
    "        # Записываем количество общих генов в матрицу\n",
    "        matrix.at[zscore_threshold, depscore_threshold] = len(common_genes)\n",
    "\n",
    "# Преобразуем значения в матрице в числовые\n",
    "matrix = matrix.apply(pd.to_numeric)\n",
    "\n",
    "# Транспонируем матрицу\n",
    "matrix = matrix.T\n",
    "\n",
    "# Сохраняем матрицу в новый CSV-файл\n",
    "matrix.to_csv(output_path)\n",
    "\n",
    "print(\"Матрица успешно создана и сохранена:\", output_path)\n"
   ]
  }
 ],
 "metadata": {
  "kernelspec": {
   "display_name": "Python 3",
   "language": "python",
   "name": "python3"
  },
  "language_info": {
   "codemirror_mode": {
    "name": "ipython",
    "version": 3
   },
   "file_extension": ".py",
   "mimetype": "text/x-python",
   "name": "python",
   "nbconvert_exporter": "python",
   "pygments_lexer": "ipython3",
   "version": "3.12.4"
  }
 },
 "nbformat": 4,
 "nbformat_minor": 2
}
