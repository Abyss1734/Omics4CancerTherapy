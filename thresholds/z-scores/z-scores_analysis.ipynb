{
 "cells": [
  {
   "cell_type": "code",
   "execution_count": null,
   "id": "1e614a73",
   "metadata": {},
   "outputs": [
    {
     "name": "stdout",
     "output_type": "stream",
     "text": [
      "Файл для ALL сохранён: ./mean_z-scores_by_cancer_type/\\mean_z-score_all.csv\n",
      "Файл для AML сохранён: ./mean_z-scores_by_cancer_type/\\mean_z-score_aml.csv\n",
      "Файл для CLL сохранён: ./mean_z-scores_by_cancer_type/\\mean_z-score_cll.csv\n",
      "Файл для CML сохранён: ./mean_z-scores_by_cancer_type/\\mean_z-score_cml.csv\n",
      "Файл для Colon/Colorectal Cancer сохранён: ./mean_z-scores_by_cancer_type/\\mean_z-score_colon_colorectal cancer.csv\n",
      "Файл для Lung Cancer сохранён: ./mean_z-scores_by_cancer_type/\\mean_z-score_lung cancer.csv\n",
      "Файл для Neuroblastoma сохранён: ./mean_z-scores_by_cancer_type/\\mean_z-score_neuroblastoma.csv\n",
      "Файл для Ovarian Cancer сохранён: ./mean_z-scores_by_cancer_type/\\mean_z-score_ovarian cancer.csv\n",
      "Все бинарные файлы успешно сохранены!\n"
     ]
    }
   ],
   "source": [
    "import pandas as pd\n",
    "from scipy.stats import zscore\n",
    "import os\n",
    "\n",
    "# Пути к исходным файлам\n",
    "combined_scores_path = r\"../../depmap_datasets/prepared_datasets/depscores.csv\"\n",
    "merged_data_path = r\"../../depmap_datasets/prepared_datasets/cancer_cell_lines_merged_data.csv\"\n",
    "\n",
    "# Папка для сохранения результатов\n",
    "output_folder = r\"./mean_z-scores_by_cancer_type/\"\n",
    "\n",
    "# Чтение файлов\n",
    "df_combined = pd.read_csv(combined_scores_path)\n",
    "df_merged = pd.read_csv(merged_data_path)\n",
    "\n",
    "# Фильтрация клеточных линий по заболеваниям\n",
    "valid_diseases = df_merged['primary_disease_renamed'].value_counts().index.tolist()\n",
    "df_valid_lines = df_combined[df_combined['DepMap_ID'].isin(df_merged[df_merged['primary_disease_renamed'].isin(valid_diseases)]['ModelID'])]\n",
    "\n",
    "# Добавление типа заболевания\n",
    "df_valid_lines = pd.merge(df_valid_lines, df_merged[['ModelID', 'primary_disease_renamed']], left_on='DepMap_ID', right_on='ModelID', how='left')\n",
    "\n",
    "# Вычисление Z-оценки для числовых столбцов (кроме идентификаторов)\n",
    "numeric_cols = df_valid_lines.columns[1:-2]\n",
    "df_zscore = df_valid_lines.copy()\n",
    "df_zscore[numeric_cols] = df_valid_lines[numeric_cols].apply(zscore, nan_policy='omit')\n",
    "\n",
    "# Фильтрация и вычисление средних значений по выбранным типам опухолей\n",
    "selected_types = [\"CML\", \"CLL\", \"AML\", \"ALL\", \"Ovarian Cancer\", \"Neuroblastoma\", \"Colon/Colorectal Cancer\", \"Lung Cancer\"]\n",
    "df_filtered = df_zscore[df_zscore[\"primary_disease_renamed\"].isin(selected_types)]\n",
    "df_mean = df_filtered.groupby(\"primary_disease_renamed\").mean(numeric_only=True)\n",
    "\n",
    "# Бинаризация Z-оценок для каждого типа рака\n",
    "thresholds = [-0.5, -1, -1.5, -2, -2.5, -3]\n",
    "\n",
    "# Создание папки для бинарных файлов, если её нет\n",
    "os.makedirs(output_folder, exist_ok=True)\n",
    "\n",
    "for cancer_type in df_mean.index:\n",
    "    cancer_series = df_mean.loc[cancer_type]\n",
    "    \n",
    "    # Создаём DataFrame, где для каждого порога вычисляем бинарное значение для каждого столбца\n",
    "    cancer_binary_df = pd.DataFrame({\n",
    "        str(threshold): (cancer_series <= threshold) for threshold in thresholds\n",
    "    })\n",
    "    \n",
    "    # Преобразуем True/False в \"Да\"/\"Нет\"\n",
    "    cancer_binary_df = cancer_binary_df.astype(str).replace({\"True\": \"Да\", \"False\": \"Нет\"})\n",
    "    \n",
    "    # Рассчитываем процентное соотношение \"Да\"/\"Нет\" для каждого столбца\n",
    "    percent_df = cancer_binary_df.apply(lambda x: (x == \"Да\").mean() * 100, axis=0)\n",
    "    \n",
    "    # Добавляем строку \"Процент\"\n",
    "    cancer_binary_df.loc[\"Процент\"] = percent_df\n",
    "    \n",
    "    # Переставляем последнюю строку на первое место\n",
    "    cancer_binary_df = pd.concat([cancer_binary_df.iloc[[-1]], cancer_binary_df.iloc[:-1]])\n",
    "\n",
    "    # Сохраняем каждый файл для типа рака\n",
    "    output_path = f\"{output_folder}\\\\mean_z-score_{cancer_type.replace('/', '_').lower()}.csv\"\n",
    "    cancer_binary_df.to_csv(output_path)\n",
    "    print(f\"Файл для {cancer_type} сохранён: {output_path}\")\n",
    "\n",
    "print(\"Все бинарные файлы успешно сохранены!\")"
   ]
  }
 ],
 "metadata": {
  "kernelspec": {
   "display_name": "Python 3",
   "language": "python",
   "name": "python3"
  },
  "language_info": {
   "codemirror_mode": {
    "name": "ipython",
    "version": 3
   },
   "file_extension": ".py",
   "mimetype": "text/x-python",
   "name": "python",
   "nbconvert_exporter": "python",
   "pygments_lexer": "ipython3",
   "version": "3.12.4"
  }
 },
 "nbformat": 4,
 "nbformat_minor": 5
}
