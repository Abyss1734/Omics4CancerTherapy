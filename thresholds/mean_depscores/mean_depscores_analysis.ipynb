{
 "cells": [
  {
   "cell_type": "code",
   "execution_count": 1,
   "metadata": {},
   "outputs": [
    {
     "name": "stdout",
     "output_type": "stream",
     "text": [
      "Файл с бинарными данными для AML сохранён по пути: ./mean_depscores_by_cancer_type/mean_depscore_aml.csv\n",
      "Файл с бинарными данными для CML сохранён по пути: ./mean_depscores_by_cancer_type/mean_depscore_cml.csv\n",
      "Файл с бинарными данными для CLL сохранён по пути: ./mean_depscores_by_cancer_type/mean_depscore_cll.csv\n",
      "Файл с бинарными данными для ALL сохранён по пути: ./mean_depscores_by_cancer_type/mean_depscore_all.csv\n",
      "Файл с бинарными данными для Lung Cancer сохранён по пути: ./mean_depscores_by_cancer_type/mean_depscore_lung cancer.csv\n",
      "Файл с бинарными данными для Neuroblastoma сохранён по пути: ./mean_depscores_by_cancer_type/mean_depscore_neuroblastoma.csv\n",
      "Файл с бинарными данными для Colon/Colorectal Cancer сохранён по пути: ./mean_depscores_by_cancer_type/mean_depscore_colon-colorectal cancer.csv\n",
      "Файл с бинарными данными для Ovarian Cancer сохранён по пути: ./mean_depscores_by_cancer_type/mean_depscore_ovarian cancer.csv\n"
     ]
    }
   ],
   "source": [
    "import pandas as pd\n",
    "import os\n",
    "\n",
    "# Пути к файлам\n",
    "combined_scores_path = r\"../../depmap_datasets/prepared_datasets/depscores.csv\"\n",
    "merged_data_path = r\"../../depmap_datasets/prepared_datasets/cancer_cell_lines_merged_data.csv\"\n",
    "\n",
    "# Чтение файлов\n",
    "df_combined = pd.read_csv(combined_scores_path)\n",
    "df_merged = pd.read_csv(merged_data_path)\n",
    "\n",
    "# Список заболеваний\n",
    "diseases = ['AML', 'CML', 'CLL', 'ALL', 'Lung Cancer', 'Neuroblastoma', 'Colon/Colorectal Cancer', 'Ovarian Cancer']\n",
    "\n",
    "# Заданные пороги для бинаризации депскоров\n",
    "thresholds = [0.0, -0.05, -0.1, -0.15, -0.2, -0.25, -0.3, -0.35, -0.4, -0.45, -0.5, -0.55, -0.6, -0.65, -0.7, -0.75, -0.8, -0.85, -0.9, -0.95, -1.0, -1.05, -1.1, -1.15, -1.2, -1.25, -1.3, -1.35, -1.4, -1.45, -1.5]\n",
    "\n",
    "# Для каждого типа рака\n",
    "for disease in diseases:\n",
    "    # Отбираем строки, соответствующие текущему заболеванию\n",
    "    df_disease = df_merged[df_merged['primary_disease_renamed'] == disease]\n",
    "    df_valid_lines = df_combined[df_combined['DepMap_ID'].isin(df_disease['ModelID'])]\n",
    "\n",
    "    # Добавляем столбец с типом заболевания\n",
    "    df_valid_lines = pd.merge(df_valid_lines, df_disease[['ModelID', 'primary_disease_renamed']], left_on='DepMap_ID', right_on='ModelID', how='left')\n",
    "\n",
    "    # Убираем ненужные столбцы\n",
    "    df_genes = df_valid_lines.drop(columns=['DepMap_ID', 'ModelID', 'primary_disease_renamed'])\n",
    "\n",
    "    # Фильтруем только числовые столбцы\n",
    "    df_genes_numeric = df_genes.select_dtypes(include=['number'])\n",
    "\n",
    "    # Группировка по типу рака и вычисление среднего значения для каждого гена\n",
    "    df_avg_scores = df_genes_numeric.mean()\n",
    "\n",
    "    # Создаём новый датафрейм для бинарных значений\n",
    "    binary_df = df_avg_scores.to_frame(name='Average_Score')\n",
    "\n",
    "    # Применяем бинаризацию для каждого порога\n",
    "    for threshold in thresholds:\n",
    "        binary_df[f\"<= {threshold}\"] = df_avg_scores.apply(lambda x: \"Да\" if x <= threshold else \"Нет\")\n",
    "\n",
    "    # Вычисляем проценты \"Да\" в каждом бинарном столбце\n",
    "    percent_row = {\"Average_Score\": \"Проценты\"}\n",
    "    for threshold in thresholds:\n",
    "        percent_yes = (binary_df[f\"<= {threshold}\"] == \"Да\").mean() * 100\n",
    "        percent_row[f\"<= {threshold}\"] = percent_yes  # Без округления\n",
    "\n",
    "    # Добавляем строку \"Проценты\" в начало датафрейма\n",
    "    binary_df = pd.concat([pd.DataFrame([percent_row]), binary_df])\n",
    "\n",
    "    # Обрабатываем название для файла (замена \"/\" на \"-\")\n",
    "    safe_disease_name = disease.replace(\"/\", \"-\")\n",
    "\n",
    "    # Определяем путь сохранения\n",
    "    output_dir = r\"./mean_depscores_by_cancer_type/\"\n",
    "    os.makedirs(output_dir, exist_ok=True)\n",
    "    output_file = os.path.join(output_dir, f\"mean_depscore_{safe_disease_name.replace('/', '_').lower()}.csv\")\n",
    "\n",
    "    # Сохраняем данные без индекса\n",
    "    binary_df.to_csv(output_file)\n",
    "\n",
    "    print(f\"Файл с бинарными данными для {disease} сохранён по пути: {output_file}\")\n"
   ]
  }
 ],
 "metadata": {
  "kernelspec": {
   "display_name": "Python 3",
   "language": "python",
   "name": "python3"
  },
  "language_info": {
   "codemirror_mode": {
    "name": "ipython",
    "version": 3
   },
   "file_extension": ".py",
   "mimetype": "text/x-python",
   "name": "python",
   "nbconvert_exporter": "python",
   "pygments_lexer": "ipython3",
   "version": "3.12.4"
  }
 },
 "nbformat": 4,
 "nbformat_minor": 2
}
