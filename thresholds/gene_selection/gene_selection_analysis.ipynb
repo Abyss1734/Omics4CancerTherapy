{
 "cells": [
  {
   "cell_type": "code",
   "execution_count": null,
   "id": "c42bdfa4",
   "metadata": {},
   "outputs": [
    {
     "name": "stderr",
     "output_type": "stream",
     "text": [
      "C:\\Users\\rusla\\AppData\\Local\\Temp\\ipykernel_36068\\2711394272.py:5: DtypeWarning: Columns (1) have mixed types. Specify dtype option on import or set low_memory=False.\n",
      "  depscore_df = pd.read_csv(depscore_path, index_col=0).iloc[1:]\n"
     ]
    },
    {
     "name": "stdout",
     "output_type": "stream",
     "text": [
      "Сохранено в ./AML_depscore_-0.2_zscore_-1.5.csv\n"
     ]
    }
   ],
   "source": [
    "import pandas as pd\n",
    "\n",
    "def load_data(depscore_path, zscore_path):\n",
    "    \"\"\"Загружает данные, пропуская строку с процентами.\"\"\"\n",
    "    depscore_df = pd.read_csv(depscore_path, index_col=0).iloc[1:]\n",
    "    zscore_df = pd.read_csv(zscore_path, index_col=0).iloc[1:]\n",
    "    return depscore_df, zscore_df\n",
    "\n",
    "def find_genes(depscore_threshold, zscore_threshold, depscore_df, zscore_df):\n",
    "    \"\"\"Находит гены, удовлетворяющие заданным порогам depscore и z-score.\"\"\"\n",
    "    # Получаем списки всех порогов из заголовков таблиц\n",
    "    depscore_columns = depscore_df.columns[1:]  # Пропускаем 'Average_Score'\n",
    "    zscore_columns = zscore_df.columns\n",
    "    \n",
    "    # Преобразуем названия столбцов в числовые пороги\n",
    "    depscore_thresholds = [float(col.split()[-1]) for col in depscore_columns]\n",
    "    zscore_thresholds = [float(col) for col in zscore_columns]\n",
    "    \n",
    "    # Находим столбцы, которые нужно проверить (все <= заданного порога)\n",
    "    depscore_check_cols = [\n",
    "        col for col, thr in zip(depscore_columns, depscore_thresholds) \n",
    "        if thr <= depscore_threshold\n",
    "    ]\n",
    "    zscore_check_cols = [\n",
    "        col for col, thr in zip(zscore_columns, zscore_thresholds) \n",
    "        if thr <= zscore_threshold\n",
    "    ]\n",
    "    \n",
    "    # Если нет подходящих столбцов — возвращаем пустой список\n",
    "    if not depscore_check_cols or not zscore_check_cols:\n",
    "        return []\n",
    "    \n",
    "    # Находим гены, где в обоих файлах стоит \"Да\" хотя бы в одном из нужных столбцов\n",
    "    matching_genes = []\n",
    "    for gene in depscore_df.index:\n",
    "        if gene in zscore_df.index:\n",
    "            depscore_ok = any(depscore_df.loc[gene, col] == \"Да\" for col in depscore_check_cols)\n",
    "            zscore_ok = any(zscore_df.loc[gene, col] == \"Да\" for col in zscore_check_cols)\n",
    "            if depscore_ok and zscore_ok:\n",
    "                matching_genes.append(gene)\n",
    "    \n",
    "    return matching_genes\n",
    "\n",
    "def save_genes_to_csv(genes, depscore_threshold, zscore_threshold, output_dir=\".\"):\n",
    "    \"\"\"Сохраняет список генов в CSV с названием, отражающим пороги.\"\"\"\n",
    "    filename = f\"AML_depscore_{depscore_threshold}_zscore_{zscore_threshold}.csv\"\n",
    "    path = f\"{output_dir}/{filename}\"\n",
    "    pd.DataFrame(genes, columns=[\"Gene\"]).to_csv(path, index=False)\n",
    "    print(f\"Сохранено в {path}\")\n",
    "\n",
    "# Пример использования\n",
    "depscore_path = r\"../mean_depscores/mean_depscores_by_cancer_type/mean_depscore_aml.csv\"\n",
    "zscore_path = r\"../mean_z-scores_by_cancer_type/mean_z-score_aml.csv\"\n",
    "\n",
    "# Загружаем данные\n",
    "depscore_df, zscore_df = load_data(depscore_path, zscore_path)\n",
    "\n",
    "# Задаем пороговые значения\n",
    "depscore_threshold = -0.2  # <= -0.1\n",
    "zscore_threshold = -1.5   # <= -1.5\n",
    "\n",
    "# Находим гены\n",
    "matching_genes = find_genes(depscore_threshold, zscore_threshold, depscore_df, zscore_df)\n",
    "\n",
    "# Сохраняем в CSV\n",
    "save_genes_to_csv(matching_genes, depscore_threshold, zscore_threshold)"
   ]
  }
 ],
 "metadata": {
  "kernelspec": {
   "display_name": "Python 3",
   "language": "python",
   "name": "python3"
  },
  "language_info": {
   "codemirror_mode": {
    "name": "ipython",
    "version": 3
   },
   "file_extension": ".py",
   "mimetype": "text/x-python",
   "name": "python",
   "nbconvert_exporter": "python",
   "pygments_lexer": "ipython3",
   "version": "3.12.4"
  }
 },
 "nbformat": 4,
 "nbformat_minor": 5
}
