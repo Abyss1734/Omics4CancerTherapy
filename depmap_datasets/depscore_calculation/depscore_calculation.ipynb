{
 "cells": [
  {
   "cell_type": "code",
   "execution_count": null,
   "metadata": {},
   "outputs": [],
   "source": [
    "import pandas as pd\n",
    "import os\n",
    "import sys\n",
    "\n",
    "# Получение пути к текущей рабочей директории (папка А)\n",
    "script_dir = os.getcwd()\n",
    "\n",
    "# Путь к родительской папке (папка Б)\n",
    "parent_dir = os.path.dirname(script_dir)\n",
    "\n",
    "# Путь к папке prepared_datasets в родительской папке\n",
    "output_dir = os.path.join(parent_dir, \"prepared_datasets\")\n",
    "\n",
    "# Проверка существования папки prepared_datasets\n",
    "if not os.path.exists(output_dir):\n",
    "    print(f\"Ошибка: папка '{output_dir}' не найдена.\")\n",
    "    sys.exit(1)  # Завершаем выполнение программы с кодом ошибки\n",
    "\n",
    "# Пути к исходным файлам\n",
    "file_i = os.path.join(script_dir, \"crispr_gene_effect.csv\")\n",
    "file_c = os.path.join(script_dir, \"rnai_gene_effect.csv\")\n",
    "\n",
    "# Загрузка данных\n",
    "scores_i = pd.read_csv(file_i, index_col=0)\n",
    "scores_c = pd.read_csv(file_c, index_col=0)\n",
    "\n",
    "# Функция для комбинирования оценок\n",
    "def combine_scores(scores_i, scores_c, a=0.5):\n",
    "    genes = scores_i.columns.union(scores_c.columns)\n",
    "    cells = scores_i.index.union(scores_c.index)\n",
    "    scores_combined = pd.DataFrame(index=cells, columns=genes, dtype=float)\n",
    "\n",
    "    for cell in cells:\n",
    "        for gene in genes:\n",
    "            value_i = scores_i.at[cell, gene] if cell in scores_i.index and gene in scores_i.columns else None\n",
    "            value_c = scores_c.at[cell, gene] if cell in scores_c.index and gene in scores_c.columns else None\n",
    "\n",
    "            if pd.notna(value_i) and pd.notna(value_c):\n",
    "                scores_combined.at[cell, gene] = (value_i * a) + (value_c * (1 - a))\n",
    "            elif pd.notna(value_i):\n",
    "                scores_combined.at[cell, gene] = value_i\n",
    "            elif pd.notna(value_c):\n",
    "                scores_combined.at[cell, gene] = value_c\n",
    "\n",
    "    return scores_combined\n",
    "\n",
    "# Комбинирование\n",
    "combined_scores = combine_scores(scores_i, scores_c)\n",
    "combined_scores.index.name = 'DepMap_ID'\n",
    "\n",
    "# Сохранение результата\n",
    "output_file = os.path.join(output_dir, \"depscores.csv\")\n",
    "combined_scores.to_csv(output_file)\n"
   ]
  }
 ],
 "metadata": {
  "kernelspec": {
   "display_name": "Python 3",
   "language": "python",
   "name": "python3"
  },
  "language_info": {
   "codemirror_mode": {
    "name": "ipython",
    "version": 3
   },
   "file_extension": ".py",
   "mimetype": "text/x-python",
   "name": "python",
   "nbconvert_exporter": "python",
   "pygments_lexer": "ipython3",
   "version": "3.12.4"
  }
 },
 "nbformat": 4,
 "nbformat_minor": 2
}
